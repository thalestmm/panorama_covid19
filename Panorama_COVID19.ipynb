{
  "nbformat": 4,
  "nbformat_minor": 0,
  "metadata": {
    "colab": {
      "name": "Panorama_COVID19",
      "provenance": [],
      "collapsed_sections": [],
      "authorship_tag": "ABX9TyPcZR3wG/UgYMVA0RT+4Js9",
      "include_colab_link": true
    },
    "kernelspec": {
      "name": "python3",
      "display_name": "Python 3"
    },
    "language_info": {
      "name": "python"
    }
  },
  "cells": [
    {
      "cell_type": "markdown",
      "metadata": {
        "id": "view-in-github",
        "colab_type": "text"
      },
      "source": [
        "<a href=\"https://colab.research.google.com/github/thalestmm/panorama_covid19/blob/main/Panorama_COVID19.ipynb\" target=\"_parent\"><img src=\"https://colab.research.google.com/assets/colab-badge.svg\" alt=\"Open In Colab\"/></a>"
      ]
    },
    {
      "cell_type": "markdown",
      "source": [
        "<img alt=\"Banner COVID-19\" src=\"https://github.com/thalestmm/panorama_covid19/blob/main/covid_banner.jpg?raw=true\" width=\"100%\">"
      ],
      "metadata": {
        "id": "AJocIz5RYwPe"
      }
    },
    {
      "cell_type": "markdown",
      "source": [
        "---\n",
        "# **Panorama da COVID-19 no Brasil - *DEZ/21***"
      ],
      "metadata": {
        "id": "jUW5lff-uNJN"
      }
    },
    {
      "cell_type": "markdown",
      "source": [
        "A COVID-19 é uma doença infecciosa causada pelo coronavírus SARS-CoV-2 e tem como principais sintomas febre, cansaço e tosse seca. (https://www.paho.org/pt/covid19)\n",
        "\n",
        "Estudos indicam que a primeira infecção ocorreu no final de 2019 na cidade de Wuhan, na China. Desde então, a COVID vem infectando milhões de pessoas e, infelizmente, tirando muitas vidas.\n",
        "\n",
        "Compreendendo a relevância do assunto e a importância da conscientização de todos acerca da doença, irei realizar uma análise sobre o panorama brasileiro durante esse tempo de pandemia, com dados atualizados até o mês de dezembro de 2021.\n",
        "\n",
        "\n",
        "\n",
        "> *Este notebook foi desenvolvido em dezembro de 2021. No entanto, como a base de dados está sendo constantemente atualizada, também serão as informações aqui disponibilizadas.*\n",
        "\n",
        "\n",
        "\n",
        "---"
      ],
      "metadata": {
        "id": "S8chV6hvu3kz"
      }
    },
    {
      "cell_type": "markdown",
      "source": [
        "## **Obtenção dos dados**\n",
        "\n",
        "Existem uma série de bases de dados e plataformas disponíveis pela internet, abordando os mais variados atributos da pandemia da COVID-19.\n",
        "\n",
        "Porém, existe uma grande dificuldade, em se tratando de um assunto como uma doença nova, de determinar qual a fonte mais precisa e confiável de dados: governo federal, governos estaduais, organizações particulares, entre outras. Não necessariamente porque os dados poderiam estar sendo manipulados, mas muitas vezes pelos distintos métodos de registro empregados.\n",
        "\n",
        "Para o intuito desta análise, no entanto, escolhi o banco de dados da organização OWID (https://ourworldindata.org/), que é atualizado diariamente e pode ser encontrado [aqui](https://github.com/owid/covid-19-data).\n",
        "\n",
        "*Esse banco foi selecionado primeiramente por sua abrangência: inclui todos os países do mundo e os divide em continentes, o que facilita muito o trabalho de processamento. Outro ponto muito importante é o seu método de aquisição de dados: extremamente distribuído e descentralizado, o que fomenta maior confiabilidade, conforme pode ser observado [aqui](https://github.com/owid/covid-19-data/blob/master/public/data/owid-covid-codebook.csv) (embora ainda dependa muito de informações governamentais).*"
      ],
      "metadata": {
        "id": "HTLO-idwYITo"
      }
    },
    {
      "cell_type": "code",
      "execution_count": 2,
      "metadata": {
        "id": "p7QxAQgeuMcE"
      },
      "outputs": [],
      "source": [
        "# Primeiramente, importamos as bibliotecas necessárias:\n",
        "import numpy as np\n",
        "import pandas as pd\n",
        "from datetime import date\n",
        "\n",
        "import matplotlib.pyplot as plt\n",
        "import seaborn as sns\n",
        "\n",
        "%matplotlib inline"
      ]
    },
    {
      "cell_type": "code",
      "source": [
        "default = plt.rcParams.copy()\n",
        "from matplotlib import cycler\n",
        "colors = cycler('color',\n",
        "                ['#EE6666', '#3388BB', '#9988DD',\n",
        "                 '#EECC55', '#88BB44', '#FFBBBB',\"#211d0c\"])\n",
        "plt.rc('axes', facecolor='#ededed', edgecolor='none',\n",
        "       axisbelow=True, grid=True, prop_cycle=colors)\n",
        "plt.rc('grid', color='w', linestyle='solid')\n",
        "plt.rc('xtick', direction='out', color='gray')\n",
        "plt.rc('ytick', direction='out', color='gray')\n",
        "plt.rc('patch', edgecolor='#ededed')\n",
        "plt.rc('lines', linewidth=1)"
      ],
      "metadata": {
        "id": "YSGrry0ho19W"
      },
      "execution_count": 3,
      "outputs": []
    },
    {
      "cell_type": "code",
      "source": [
        "# Acessar o banco de dados e fazer o download da planilha:\n",
        "url = \"https://raw.githubusercontent.com/owid/covid-19-data/master/public/data/owid-covid-data.csv\"\n",
        "\n",
        "df_raw = pd.read_csv(url,index_col=\"date\",parse_dates=True)\n",
        "\n",
        "print(f\"O arquivo original possui {df_raw.shape[0]-1} entradas (linhas) e {df_raw.shape[1]} atributos (colunas).\\n\")\n",
        "print(\"Mais algumas informações:\")\n",
        "df_raw.info(verbose=False)"
      ],
      "metadata": {
        "colab": {
          "base_uri": "https://localhost:8080/"
        },
        "id": "if02d_hOa4CM",
        "outputId": "15c645d0-974c-4568-ecdd-a7059be800db"
      },
      "execution_count": 4,
      "outputs": [
        {
          "output_type": "stream",
          "name": "stdout",
          "text": [
            "O arquivo original possui 139381 entradas (linhas) e 66 atributos (colunas).\n",
            "\n",
            "Mais algumas informações:\n",
            "<class 'pandas.core.frame.DataFrame'>\n",
            "DatetimeIndex: 139382 entries, 2020-02-24 to 2021-12-11\n",
            "Columns: 66 entries, iso_code to excess_mortality_cumulative_per_million\n",
            "dtypes: float64(62), object(4)\n",
            "memory usage: 71.2+ MB\n"
          ]
        }
      ]
    },
    {
      "cell_type": "code",
      "source": [
        "# As 5 primeiras linhas do arquivo original:\n",
        "df_raw.head()"
      ],
      "metadata": {
        "colab": {
          "base_uri": "https://localhost:8080/",
          "height": 344
        },
        "id": "rijzarl1d08S",
        "outputId": "d96ae121-416c-4ec9-ed83-164cb3778a7b"
      },
      "execution_count": 5,
      "outputs": [
        {
          "output_type": "execute_result",
          "data": {
            "text/html": [
              "<div>\n",
              "<style scoped>\n",
              "    .dataframe tbody tr th:only-of-type {\n",
              "        vertical-align: middle;\n",
              "    }\n",
              "\n",
              "    .dataframe tbody tr th {\n",
              "        vertical-align: top;\n",
              "    }\n",
              "\n",
              "    .dataframe thead th {\n",
              "        text-align: right;\n",
              "    }\n",
              "</style>\n",
              "<table border=\"1\" class=\"dataframe\">\n",
              "  <thead>\n",
              "    <tr style=\"text-align: right;\">\n",
              "      <th></th>\n",
              "      <th>iso_code</th>\n",
              "      <th>continent</th>\n",
              "      <th>location</th>\n",
              "      <th>total_cases</th>\n",
              "      <th>new_cases</th>\n",
              "      <th>new_cases_smoothed</th>\n",
              "      <th>total_deaths</th>\n",
              "      <th>new_deaths</th>\n",
              "      <th>new_deaths_smoothed</th>\n",
              "      <th>total_cases_per_million</th>\n",
              "      <th>new_cases_per_million</th>\n",
              "      <th>new_cases_smoothed_per_million</th>\n",
              "      <th>total_deaths_per_million</th>\n",
              "      <th>new_deaths_per_million</th>\n",
              "      <th>new_deaths_smoothed_per_million</th>\n",
              "      <th>reproduction_rate</th>\n",
              "      <th>icu_patients</th>\n",
              "      <th>icu_patients_per_million</th>\n",
              "      <th>hosp_patients</th>\n",
              "      <th>hosp_patients_per_million</th>\n",
              "      <th>weekly_icu_admissions</th>\n",
              "      <th>weekly_icu_admissions_per_million</th>\n",
              "      <th>weekly_hosp_admissions</th>\n",
              "      <th>weekly_hosp_admissions_per_million</th>\n",
              "      <th>new_tests</th>\n",
              "      <th>total_tests</th>\n",
              "      <th>total_tests_per_thousand</th>\n",
              "      <th>new_tests_per_thousand</th>\n",
              "      <th>new_tests_smoothed</th>\n",
              "      <th>new_tests_smoothed_per_thousand</th>\n",
              "      <th>positive_rate</th>\n",
              "      <th>tests_per_case</th>\n",
              "      <th>tests_units</th>\n",
              "      <th>total_vaccinations</th>\n",
              "      <th>people_vaccinated</th>\n",
              "      <th>people_fully_vaccinated</th>\n",
              "      <th>total_boosters</th>\n",
              "      <th>new_vaccinations</th>\n",
              "      <th>new_vaccinations_smoothed</th>\n",
              "      <th>total_vaccinations_per_hundred</th>\n",
              "      <th>people_vaccinated_per_hundred</th>\n",
              "      <th>people_fully_vaccinated_per_hundred</th>\n",
              "      <th>total_boosters_per_hundred</th>\n",
              "      <th>new_vaccinations_smoothed_per_million</th>\n",
              "      <th>new_people_vaccinated_smoothed</th>\n",
              "      <th>new_people_vaccinated_smoothed_per_hundred</th>\n",
              "      <th>stringency_index</th>\n",
              "      <th>population</th>\n",
              "      <th>population_density</th>\n",
              "      <th>median_age</th>\n",
              "      <th>aged_65_older</th>\n",
              "      <th>aged_70_older</th>\n",
              "      <th>gdp_per_capita</th>\n",
              "      <th>extreme_poverty</th>\n",
              "      <th>cardiovasc_death_rate</th>\n",
              "      <th>diabetes_prevalence</th>\n",
              "      <th>female_smokers</th>\n",
              "      <th>male_smokers</th>\n",
              "      <th>handwashing_facilities</th>\n",
              "      <th>hospital_beds_per_thousand</th>\n",
              "      <th>life_expectancy</th>\n",
              "      <th>human_development_index</th>\n",
              "      <th>excess_mortality_cumulative_absolute</th>\n",
              "      <th>excess_mortality_cumulative</th>\n",
              "      <th>excess_mortality</th>\n",
              "      <th>excess_mortality_cumulative_per_million</th>\n",
              "    </tr>\n",
              "    <tr>\n",
              "      <th>date</th>\n",
              "      <th></th>\n",
              "      <th></th>\n",
              "      <th></th>\n",
              "      <th></th>\n",
              "      <th></th>\n",
              "      <th></th>\n",
              "      <th></th>\n",
              "      <th></th>\n",
              "      <th></th>\n",
              "      <th></th>\n",
              "      <th></th>\n",
              "      <th></th>\n",
              "      <th></th>\n",
              "      <th></th>\n",
              "      <th></th>\n",
              "      <th></th>\n",
              "      <th></th>\n",
              "      <th></th>\n",
              "      <th></th>\n",
              "      <th></th>\n",
              "      <th></th>\n",
              "      <th></th>\n",
              "      <th></th>\n",
              "      <th></th>\n",
              "      <th></th>\n",
              "      <th></th>\n",
              "      <th></th>\n",
              "      <th></th>\n",
              "      <th></th>\n",
              "      <th></th>\n",
              "      <th></th>\n",
              "      <th></th>\n",
              "      <th></th>\n",
              "      <th></th>\n",
              "      <th></th>\n",
              "      <th></th>\n",
              "      <th></th>\n",
              "      <th></th>\n",
              "      <th></th>\n",
              "      <th></th>\n",
              "      <th></th>\n",
              "      <th></th>\n",
              "      <th></th>\n",
              "      <th></th>\n",
              "      <th></th>\n",
              "      <th></th>\n",
              "      <th></th>\n",
              "      <th></th>\n",
              "      <th></th>\n",
              "      <th></th>\n",
              "      <th></th>\n",
              "      <th></th>\n",
              "      <th></th>\n",
              "      <th></th>\n",
              "      <th></th>\n",
              "      <th></th>\n",
              "      <th></th>\n",
              "      <th></th>\n",
              "      <th></th>\n",
              "      <th></th>\n",
              "      <th></th>\n",
              "      <th></th>\n",
              "      <th></th>\n",
              "      <th></th>\n",
              "      <th></th>\n",
              "      <th></th>\n",
              "    </tr>\n",
              "  </thead>\n",
              "  <tbody>\n",
              "    <tr>\n",
              "      <th>2020-02-24</th>\n",
              "      <td>AFG</td>\n",
              "      <td>Asia</td>\n",
              "      <td>Afghanistan</td>\n",
              "      <td>5.0</td>\n",
              "      <td>5.0</td>\n",
              "      <td>NaN</td>\n",
              "      <td>NaN</td>\n",
              "      <td>NaN</td>\n",
              "      <td>NaN</td>\n",
              "      <td>0.126</td>\n",
              "      <td>0.126</td>\n",
              "      <td>NaN</td>\n",
              "      <td>NaN</td>\n",
              "      <td>NaN</td>\n",
              "      <td>NaN</td>\n",
              "      <td>NaN</td>\n",
              "      <td>NaN</td>\n",
              "      <td>NaN</td>\n",
              "      <td>NaN</td>\n",
              "      <td>NaN</td>\n",
              "      <td>NaN</td>\n",
              "      <td>NaN</td>\n",
              "      <td>NaN</td>\n",
              "      <td>NaN</td>\n",
              "      <td>NaN</td>\n",
              "      <td>NaN</td>\n",
              "      <td>NaN</td>\n",
              "      <td>NaN</td>\n",
              "      <td>NaN</td>\n",
              "      <td>NaN</td>\n",
              "      <td>NaN</td>\n",
              "      <td>NaN</td>\n",
              "      <td>NaN</td>\n",
              "      <td>NaN</td>\n",
              "      <td>NaN</td>\n",
              "      <td>NaN</td>\n",
              "      <td>NaN</td>\n",
              "      <td>NaN</td>\n",
              "      <td>NaN</td>\n",
              "      <td>NaN</td>\n",
              "      <td>NaN</td>\n",
              "      <td>NaN</td>\n",
              "      <td>NaN</td>\n",
              "      <td>NaN</td>\n",
              "      <td>NaN</td>\n",
              "      <td>NaN</td>\n",
              "      <td>8.33</td>\n",
              "      <td>39835428.0</td>\n",
              "      <td>54.422</td>\n",
              "      <td>18.6</td>\n",
              "      <td>2.581</td>\n",
              "      <td>1.337</td>\n",
              "      <td>1803.987</td>\n",
              "      <td>NaN</td>\n",
              "      <td>597.029</td>\n",
              "      <td>9.59</td>\n",
              "      <td>NaN</td>\n",
              "      <td>NaN</td>\n",
              "      <td>37.746</td>\n",
              "      <td>0.5</td>\n",
              "      <td>64.83</td>\n",
              "      <td>0.511</td>\n",
              "      <td>NaN</td>\n",
              "      <td>NaN</td>\n",
              "      <td>NaN</td>\n",
              "      <td>NaN</td>\n",
              "    </tr>\n",
              "    <tr>\n",
              "      <th>2020-02-25</th>\n",
              "      <td>AFG</td>\n",
              "      <td>Asia</td>\n",
              "      <td>Afghanistan</td>\n",
              "      <td>5.0</td>\n",
              "      <td>0.0</td>\n",
              "      <td>NaN</td>\n",
              "      <td>NaN</td>\n",
              "      <td>NaN</td>\n",
              "      <td>NaN</td>\n",
              "      <td>0.126</td>\n",
              "      <td>0.000</td>\n",
              "      <td>NaN</td>\n",
              "      <td>NaN</td>\n",
              "      <td>NaN</td>\n",
              "      <td>NaN</td>\n",
              "      <td>NaN</td>\n",
              "      <td>NaN</td>\n",
              "      <td>NaN</td>\n",
              "      <td>NaN</td>\n",
              "      <td>NaN</td>\n",
              "      <td>NaN</td>\n",
              "      <td>NaN</td>\n",
              "      <td>NaN</td>\n",
              "      <td>NaN</td>\n",
              "      <td>NaN</td>\n",
              "      <td>NaN</td>\n",
              "      <td>NaN</td>\n",
              "      <td>NaN</td>\n",
              "      <td>NaN</td>\n",
              "      <td>NaN</td>\n",
              "      <td>NaN</td>\n",
              "      <td>NaN</td>\n",
              "      <td>NaN</td>\n",
              "      <td>NaN</td>\n",
              "      <td>NaN</td>\n",
              "      <td>NaN</td>\n",
              "      <td>NaN</td>\n",
              "      <td>NaN</td>\n",
              "      <td>NaN</td>\n",
              "      <td>NaN</td>\n",
              "      <td>NaN</td>\n",
              "      <td>NaN</td>\n",
              "      <td>NaN</td>\n",
              "      <td>NaN</td>\n",
              "      <td>NaN</td>\n",
              "      <td>NaN</td>\n",
              "      <td>8.33</td>\n",
              "      <td>39835428.0</td>\n",
              "      <td>54.422</td>\n",
              "      <td>18.6</td>\n",
              "      <td>2.581</td>\n",
              "      <td>1.337</td>\n",
              "      <td>1803.987</td>\n",
              "      <td>NaN</td>\n",
              "      <td>597.029</td>\n",
              "      <td>9.59</td>\n",
              "      <td>NaN</td>\n",
              "      <td>NaN</td>\n",
              "      <td>37.746</td>\n",
              "      <td>0.5</td>\n",
              "      <td>64.83</td>\n",
              "      <td>0.511</td>\n",
              "      <td>NaN</td>\n",
              "      <td>NaN</td>\n",
              "      <td>NaN</td>\n",
              "      <td>NaN</td>\n",
              "    </tr>\n",
              "    <tr>\n",
              "      <th>2020-02-26</th>\n",
              "      <td>AFG</td>\n",
              "      <td>Asia</td>\n",
              "      <td>Afghanistan</td>\n",
              "      <td>5.0</td>\n",
              "      <td>0.0</td>\n",
              "      <td>NaN</td>\n",
              "      <td>NaN</td>\n",
              "      <td>NaN</td>\n",
              "      <td>NaN</td>\n",
              "      <td>0.126</td>\n",
              "      <td>0.000</td>\n",
              "      <td>NaN</td>\n",
              "      <td>NaN</td>\n",
              "      <td>NaN</td>\n",
              "      <td>NaN</td>\n",
              "      <td>NaN</td>\n",
              "      <td>NaN</td>\n",
              "      <td>NaN</td>\n",
              "      <td>NaN</td>\n",
              "      <td>NaN</td>\n",
              "      <td>NaN</td>\n",
              "      <td>NaN</td>\n",
              "      <td>NaN</td>\n",
              "      <td>NaN</td>\n",
              "      <td>NaN</td>\n",
              "      <td>NaN</td>\n",
              "      <td>NaN</td>\n",
              "      <td>NaN</td>\n",
              "      <td>NaN</td>\n",
              "      <td>NaN</td>\n",
              "      <td>NaN</td>\n",
              "      <td>NaN</td>\n",
              "      <td>NaN</td>\n",
              "      <td>NaN</td>\n",
              "      <td>NaN</td>\n",
              "      <td>NaN</td>\n",
              "      <td>NaN</td>\n",
              "      <td>NaN</td>\n",
              "      <td>NaN</td>\n",
              "      <td>NaN</td>\n",
              "      <td>NaN</td>\n",
              "      <td>NaN</td>\n",
              "      <td>NaN</td>\n",
              "      <td>NaN</td>\n",
              "      <td>NaN</td>\n",
              "      <td>NaN</td>\n",
              "      <td>8.33</td>\n",
              "      <td>39835428.0</td>\n",
              "      <td>54.422</td>\n",
              "      <td>18.6</td>\n",
              "      <td>2.581</td>\n",
              "      <td>1.337</td>\n",
              "      <td>1803.987</td>\n",
              "      <td>NaN</td>\n",
              "      <td>597.029</td>\n",
              "      <td>9.59</td>\n",
              "      <td>NaN</td>\n",
              "      <td>NaN</td>\n",
              "      <td>37.746</td>\n",
              "      <td>0.5</td>\n",
              "      <td>64.83</td>\n",
              "      <td>0.511</td>\n",
              "      <td>NaN</td>\n",
              "      <td>NaN</td>\n",
              "      <td>NaN</td>\n",
              "      <td>NaN</td>\n",
              "    </tr>\n",
              "    <tr>\n",
              "      <th>2020-02-27</th>\n",
              "      <td>AFG</td>\n",
              "      <td>Asia</td>\n",
              "      <td>Afghanistan</td>\n",
              "      <td>5.0</td>\n",
              "      <td>0.0</td>\n",
              "      <td>NaN</td>\n",
              "      <td>NaN</td>\n",
              "      <td>NaN</td>\n",
              "      <td>NaN</td>\n",
              "      <td>0.126</td>\n",
              "      <td>0.000</td>\n",
              "      <td>NaN</td>\n",
              "      <td>NaN</td>\n",
              "      <td>NaN</td>\n",
              "      <td>NaN</td>\n",
              "      <td>NaN</td>\n",
              "      <td>NaN</td>\n",
              "      <td>NaN</td>\n",
              "      <td>NaN</td>\n",
              "      <td>NaN</td>\n",
              "      <td>NaN</td>\n",
              "      <td>NaN</td>\n",
              "      <td>NaN</td>\n",
              "      <td>NaN</td>\n",
              "      <td>NaN</td>\n",
              "      <td>NaN</td>\n",
              "      <td>NaN</td>\n",
              "      <td>NaN</td>\n",
              "      <td>NaN</td>\n",
              "      <td>NaN</td>\n",
              "      <td>NaN</td>\n",
              "      <td>NaN</td>\n",
              "      <td>NaN</td>\n",
              "      <td>NaN</td>\n",
              "      <td>NaN</td>\n",
              "      <td>NaN</td>\n",
              "      <td>NaN</td>\n",
              "      <td>NaN</td>\n",
              "      <td>NaN</td>\n",
              "      <td>NaN</td>\n",
              "      <td>NaN</td>\n",
              "      <td>NaN</td>\n",
              "      <td>NaN</td>\n",
              "      <td>NaN</td>\n",
              "      <td>NaN</td>\n",
              "      <td>NaN</td>\n",
              "      <td>8.33</td>\n",
              "      <td>39835428.0</td>\n",
              "      <td>54.422</td>\n",
              "      <td>18.6</td>\n",
              "      <td>2.581</td>\n",
              "      <td>1.337</td>\n",
              "      <td>1803.987</td>\n",
              "      <td>NaN</td>\n",
              "      <td>597.029</td>\n",
              "      <td>9.59</td>\n",
              "      <td>NaN</td>\n",
              "      <td>NaN</td>\n",
              "      <td>37.746</td>\n",
              "      <td>0.5</td>\n",
              "      <td>64.83</td>\n",
              "      <td>0.511</td>\n",
              "      <td>NaN</td>\n",
              "      <td>NaN</td>\n",
              "      <td>NaN</td>\n",
              "      <td>NaN</td>\n",
              "    </tr>\n",
              "    <tr>\n",
              "      <th>2020-02-28</th>\n",
              "      <td>AFG</td>\n",
              "      <td>Asia</td>\n",
              "      <td>Afghanistan</td>\n",
              "      <td>5.0</td>\n",
              "      <td>0.0</td>\n",
              "      <td>NaN</td>\n",
              "      <td>NaN</td>\n",
              "      <td>NaN</td>\n",
              "      <td>NaN</td>\n",
              "      <td>0.126</td>\n",
              "      <td>0.000</td>\n",
              "      <td>NaN</td>\n",
              "      <td>NaN</td>\n",
              "      <td>NaN</td>\n",
              "      <td>NaN</td>\n",
              "      <td>NaN</td>\n",
              "      <td>NaN</td>\n",
              "      <td>NaN</td>\n",
              "      <td>NaN</td>\n",
              "      <td>NaN</td>\n",
              "      <td>NaN</td>\n",
              "      <td>NaN</td>\n",
              "      <td>NaN</td>\n",
              "      <td>NaN</td>\n",
              "      <td>NaN</td>\n",
              "      <td>NaN</td>\n",
              "      <td>NaN</td>\n",
              "      <td>NaN</td>\n",
              "      <td>NaN</td>\n",
              "      <td>NaN</td>\n",
              "      <td>NaN</td>\n",
              "      <td>NaN</td>\n",
              "      <td>NaN</td>\n",
              "      <td>NaN</td>\n",
              "      <td>NaN</td>\n",
              "      <td>NaN</td>\n",
              "      <td>NaN</td>\n",
              "      <td>NaN</td>\n",
              "      <td>NaN</td>\n",
              "      <td>NaN</td>\n",
              "      <td>NaN</td>\n",
              "      <td>NaN</td>\n",
              "      <td>NaN</td>\n",
              "      <td>NaN</td>\n",
              "      <td>NaN</td>\n",
              "      <td>NaN</td>\n",
              "      <td>8.33</td>\n",
              "      <td>39835428.0</td>\n",
              "      <td>54.422</td>\n",
              "      <td>18.6</td>\n",
              "      <td>2.581</td>\n",
              "      <td>1.337</td>\n",
              "      <td>1803.987</td>\n",
              "      <td>NaN</td>\n",
              "      <td>597.029</td>\n",
              "      <td>9.59</td>\n",
              "      <td>NaN</td>\n",
              "      <td>NaN</td>\n",
              "      <td>37.746</td>\n",
              "      <td>0.5</td>\n",
              "      <td>64.83</td>\n",
              "      <td>0.511</td>\n",
              "      <td>NaN</td>\n",
              "      <td>NaN</td>\n",
              "      <td>NaN</td>\n",
              "      <td>NaN</td>\n",
              "    </tr>\n",
              "  </tbody>\n",
              "</table>\n",
              "</div>"
            ],
            "text/plain": [
              "           iso_code  ... excess_mortality_cumulative_per_million\n",
              "date                 ...                                        \n",
              "2020-02-24      AFG  ...                                     NaN\n",
              "2020-02-25      AFG  ...                                     NaN\n",
              "2020-02-26      AFG  ...                                     NaN\n",
              "2020-02-27      AFG  ...                                     NaN\n",
              "2020-02-28      AFG  ...                                     NaN\n",
              "\n",
              "[5 rows x 66 columns]"
            ]
          },
          "metadata": {},
          "execution_count": 5
        }
      ]
    },
    {
      "cell_type": "markdown",
      "source": [
        "## **Contexto global da COVID-19**\n",
        "\n",
        "*Antes de tratar do Brasil, vamos fazer uma breve comparação entre todos os países, passando por algumas informações relevantes.*"
      ],
      "metadata": {
        "id": "mg1JXwiAJvd5"
      }
    },
    {
      "cell_type": "markdown",
      "source": [
        "### **Evolução da doença pelo mundo**"
      ],
      "metadata": {
        "id": "okZMlSQ-y3X9"
      }
    },
    {
      "cell_type": "markdown",
      "source": [
        "A nossa fonte de registrou todos os dados desde *22 de janeiro de 2020* e, portanto, essa primeira visualização tratará dos fatos desta data até o dia de hoje."
      ],
      "metadata": {
        "id": "W4HBFjPTy-W-"
      }
    },
    {
      "cell_type": "code",
      "source": [
        "df_world = df_raw.loc[df_raw.location == \"World\"].new_deaths_smoothed\n",
        "df_world = df_world.to_frame()\n",
        "df_world.new_deaths_smoothed = df_world.new_deaths_smoothed / 1000"
      ],
      "metadata": {
        "id": "-Ufcc6ytJRob"
      },
      "execution_count": 6,
      "outputs": []
    },
    {
      "cell_type": "code",
      "source": [
        "fig, ax = plt.subplots(figsize = (5,2.5),dpi=200)\n",
        "\n",
        "ax.set_title(\"Registro de mortes diárias pela COVID-19 no mundo\",fontsize=8,y=1.02)\n",
        "plt.xticks(fontsize=5)\n",
        "plt.yticks(fontsize=5)\n",
        "plt.ylabel(\"Mortes (mil)\",fontsize=6)\n",
        "plt.xlabel(\"Mês\",fontsize=6)\n",
        "plt.ylim([0,18])\n",
        "plt.xlim([date(2020,1,1),date(2022,1,1)])\n",
        "plt.plot(df_world.index,df_world.new_deaths_smoothed,color=\"#FFC30B\",aa=True)\n",
        "plt.tight_layout()"
      ],
      "metadata": {
        "colab": {
          "base_uri": "https://localhost:8080/",
          "height": 496
        },
        "id": "HJIsnwtU0JVP",
        "outputId": "5e7fe58b-d651-44a5-f9af-ae7e100b6c43"
      },
      "execution_count": 7,
      "outputs": [
        {
          "output_type": "display_data",
          "data": {
            "image/png": "[encoded data removed]",
            "text/plain": [
              "<Figure size 1000x500 with 1 Axes>"
            ]
          },
          "metadata": {
            "needs_background": "dark"
          }
        }
      ]
    },
    {
      "cell_type": "markdown",
      "source": [
        "Aqui utilizamos os valores de média móvel das mortes (`new_deaths_smoothed`), o que nos mostra uma certa tendência de evolução da doença."
      ],
      "metadata": {
        "id": "x5kkAcgJH3DO"
      }
    },
    {
      "cell_type": "code",
      "source": [
        "total = df_raw.loc[df_raw.location == \"World\"].total_deaths.max() / 1000000\n",
        "\n",
        "print(f\"Total de Mortes até {date.today()}: {total:.3f} milhões\")"
      ],
      "metadata": {
        "colab": {
          "base_uri": "https://localhost:8080/"
        },
        "id": "IPZlyu6I1QnQ",
        "outputId": "e55046c2-3d14-4cf5-e999-64f7f0bcdc63"
      },
      "execution_count": 8,
      "outputs": [
        {
          "output_type": "stream",
          "name": "stdout",
          "text": [
            "Total de Mortes até 2021-12-13: 5.302 milhões\n"
          ]
        }
      ]
    },
    {
      "cell_type": "markdown",
      "source": [
        "No espaço de tempo de 2 anos, podemos observar o impacto dessa doença no mundo: **mais de 5 milhões e 300 mil mortos**, além de ter causado mudanças extremas na forma como as empresas trabalham, em como nos relacionamos, nos nossos hábitos e estilos de vida."
      ],
      "metadata": {
        "id": "EVQM5V9a1Nr1"
      }
    },
    {
      "cell_type": "markdown",
      "source": [
        "### **Por Continentes**"
      ],
      "metadata": {
        "id": "zZIptiMZLZSt"
      }
    },
    {
      "cell_type": "markdown",
      "source": [
        "### **Comparativo entre todos os países**"
      ],
      "metadata": {
        "id": "qX1-xxxa9Jor"
      }
    },
    {
      "cell_type": "markdown",
      "source": [
        "#### Os 5 países com o maior número de mortes"
      ],
      "metadata": {
        "id": "_E1-998eVIE5"
      }
    },
    {
      "cell_type": "code",
      "source": [
        "df_countries = df_raw.groupby(\"location\").total_deaths.max().sort_values(ascending=False).iloc[9:14].to_frame()\n",
        "df_countries.total_deaths = df_countries.total_deaths / 1000"
      ],
      "metadata": {
        "id": "a4uaWB2DPZaH"
      },
      "execution_count": 9,
      "outputs": []
    },
    {
      "cell_type": "code",
      "source": [
        "fig, ax = plt.subplots(figsize=(5,3),dpi=200)\n",
        "\n",
        "ax.set_title(\"Os 5 países com o maior número de mortes\",fontsize=9,y=1.02)\n",
        "colors = [\"#FFC30B\" if key == \"Brazil\" else \"#211d0c\" for key,tot in df_countries.total_deaths.iteritems()]\n",
        "plt.bar(x=df_countries.index,height=\"total_deaths\",data=df_countries,color=colors)\n",
        "plt.ylabel(\"Total de Mortes (mil)\",fontsize=6)\n",
        "plt.xlabel(\"País\",fontsize=6)\n",
        "plt.xticks(fontsize=5)\n",
        "plt.yticks(fontsize=5)\n",
        "plt.tight_layout()"
      ],
      "metadata": {
        "colab": {
          "base_uri": "https://localhost:8080/",
          "height": 596
        },
        "id": "REcw_7X2x3zt",
        "outputId": "e2d5554c-33f7-4fed-98a2-2fac1329e211"
      },
      "execution_count": 10,
      "outputs": [
        {
          "output_type": "display_data",
          "data": {
            "image/png": "[encoded data removed]",
            "text/plain": [
              "<Figure size 1000x600 with 1 Axes>"
            ]
          },
          "metadata": {
            "needs_background": "dark"
          }
        }
      ]
    },
    {
      "cell_type": "markdown",
      "source": [
        "Como podemos observar nos gráficos, os **Estados Unidos** tiveram a maior quantidade de mortes, seguido pelo Brasil, Índia, México e Rússia."
      ],
      "metadata": {
        "id": "9MvK-DNjv9Yd"
      }
    },
    {
      "cell_type": "markdown",
      "source": [
        "Comparando com o total de mortes no mundo todo, temos como percentuais os seguintes valores:"
      ],
      "metadata": {
        "id": "k9kXaGRwwQ-A"
      }
    },
    {
      "cell_type": "code",
      "source": [
        "world_total_deaths = df_raw.loc[df_raw.location == \"World\"].total_deaths.max()\n",
        "\n",
        "percentage = {key : value / world_total_deaths for key, value in df_countries.total_deaths.iteritems()}\n",
        "\n",
        "for key,value in percentage.items():\n",
        "  print(f\"{key}: {value*100:.2f}%\")"
      ],
      "metadata": {
        "colab": {
          "base_uri": "https://localhost:8080/"
        },
        "id": "85JBIB33wXq6",
        "outputId": "dcb81744-fa2d-4ed8-b734-30bdfd97e090"
      },
      "execution_count": 11,
      "outputs": [
        {
          "output_type": "stream",
          "name": "stdout",
          "text": [
            "United States: 0.02%\n",
            "Brazil: 0.01%\n",
            "India: 0.01%\n",
            "Mexico: 0.01%\n",
            "Russia: 0.01%\n"
          ]
        }
      ]
    },
    {
      "cell_type": "markdown",
      "source": [
        "Não vamos tratar de assuntos como políticas públicas durante a pandemia, visto que esse não é o objetivo desta análise. No entanto, um fato que fica claro é o impacto da COVID-19 sobre o povo brasileiro.\n",
        "\n",
        "*A partir de agora, trataremos especificamente sobre o Brasil.*"
      ],
      "metadata": {
        "id": "JkqAovRix7IV"
      }
    },
    {
      "cell_type": "markdown",
      "source": [
        "## **Sobre o Brasil**"
      ],
      "metadata": {
        "id": "vA6MKbHCKCPr"
      }
    },
    {
      "cell_type": "markdown",
      "source": [
        "Como pudemos ver, o arquivo original possui mais de *9 milhões* de células o que, além de trazer dados que não serão usados na nossa análise, também implica num maior uso de memória, e consequente diminuição na *performance* das funções a serem empregadas. \n",
        "\n",
        "*Por isso, antes de prosseguir para a Apresentação dos Dados, farei uma limpeza básica nos dados.*"
      ],
      "metadata": {
        "id": "C6qRQJrdc2vs"
      }
    },
    {
      "cell_type": "markdown",
      "source": [
        "#### Limpeza"
      ],
      "metadata": {
        "id": "af2g4kIlPSCJ"
      }
    },
    {
      "cell_type": "code",
      "source": [
        "# Manter somente os dados do Brasil (iso_code == \"BRA\")\n",
        "wanted_iso_code = \"BRA\"\n",
        "df_bra = df_raw.loc[df_raw.iso_code == wanted_iso_code].copy()\n",
        "\n",
        "# Excluir colunas redundantes: Continente e nome do País\n",
        "df_bra = df_bra.drop(axis=1,columns=[\"continent\",\"location\",\"iso_code\"])\n",
        "\n",
        "# Excluir colunas que estão completamente nulas\n",
        "df_bra = df_bra.dropna(how='all', axis=1)\n",
        "\n",
        "# Excluir colunas que não serão usadas\n",
        "df_bra = df_bra.drop(axis=1,columns=[\"tests_units\",\n",
        "                                     \"excess_mortality_cumulative_absolute\",\n",
        "                                     \"excess_mortality_cumulative\",\n",
        "                                     \"excess_mortality\",\n",
        "                                     \"excess_mortality_cumulative_per_million\",\n",
        "                                     \"new_tests\",\n",
        "                                     \"total_tests\",\n",
        "                                     \"total_tests_per_thousand\",\n",
        "                                     \"new_tests_per_thousand\",\n",
        "                                     \"new_tests_smoothed\",\n",
        "                                     \"new_tests_smoothed_per_thousand\",\n",
        "                                     \"human_development_index\",\n",
        "                                     \"life_expectancy\",\n",
        "                                     \"extreme_poverty\",\n",
        "                                     \"gdp_per_capita\",\n",
        "                                     \"diabetes_prevalence\",\n",
        "                                     \"cardiovasc_death_rate\",\n",
        "                                     \"new_cases_per_million\",\n",
        "                                     \"total_cases_per_million\",\n",
        "                                     \"new_cases_smoothed_per_million\",\n",
        "                                     \"total_deaths_per_million\",\n",
        "                                     \"new_deaths_per_million\",\n",
        "                                     \"new_deaths_smoothed_per_million\",\n",
        "                                     \"total_vaccinations_per_hundred\",\n",
        "                                     \"people_vaccinated_per_hundred\",\n",
        "                                     \"people_fully_vaccinated_per_hundred\",\n",
        "                                     \"total_boosters_per_hundred\",\n",
        "                                     \"new_vaccinations_smoothed_per_million\",\n",
        "                                     \"new_people_vaccinated_smoothed_per_hundred\",\n",
        "                                     \"aged_70_older\",\n",
        "                                     \"aged_65_older\",\n",
        "                                     \"hospital_beds_per_thousand\"])\n",
        "\n",
        "print(f\"O novo arquivo possui {df_bra.shape[0]-1} entradas (linhas) e {df_bra.shape[1]} atributos (colunas).\\n\")\n",
        "print(\"Mais algumas informações:\")\n",
        "df_bra.info(verbose=False)"
      ],
      "metadata": {
        "colab": {
          "base_uri": "https://localhost:8080/"
        },
        "id": "nHnrlUaFdwDe",
        "outputId": "bbc63911-b4c2-472f-adf0-db0fb6973ad6"
      },
      "execution_count": 12,
      "outputs": [
        {
          "output_type": "stream",
          "name": "stdout",
          "text": [
            "O novo arquivo possui 654 entradas (linhas) e 20 atributos (colunas).\n",
            "\n",
            "Mais algumas informações:\n",
            "<class 'pandas.core.frame.DataFrame'>\n",
            "DatetimeIndex: 655 entries, 2020-02-26 to 2021-12-11\n",
            "Columns: 20 entries, total_cases to male_smokers\n",
            "dtypes: float64(20)\n",
            "memory usage: 107.5 KB\n"
          ]
        }
      ]
    },
    {
      "cell_type": "markdown",
      "source": [
        "Por enquanto apagamos colunas redundantes, como nome do país e do continente, além de colunas que estavam completamente nulas, pois os dados não foram disponibilizados pelo governo ou, ainda, colunas que não incluem dados relevantes para a nossa análise. Assim, reduzimos o número de colunas para 20.\n",
        "\n",
        "*Ainda restam alguns valores ausentes, mas lidaremos com eles mais adiante.*"
      ],
      "metadata": {
        "id": "Td3RMtYlwI41"
      }
    },
    {
      "cell_type": "code",
      "source": [
        "# As 5 primeiras linhas do novo conjunto de dados:\n",
        "df_bra.head()"
      ],
      "metadata": {
        "colab": {
          "base_uri": "https://localhost:8080/",
          "height": 344
        },
        "id": "KJkNexuly3rv",
        "outputId": "f17ddaf1-4400-48f8-e37a-3cb3c4eb6902"
      },
      "execution_count": 13,
      "outputs": [
        {
          "output_type": "execute_result",
          "data": {
            "text/html": [
              "<div>\n",
              "<style scoped>\n",
              "    .dataframe tbody tr th:only-of-type {\n",
              "        vertical-align: middle;\n",
              "    }\n",
              "\n",
              "    .dataframe tbody tr th {\n",
              "        vertical-align: top;\n",
              "    }\n",
              "\n",
              "    .dataframe thead th {\n",
              "        text-align: right;\n",
              "    }\n",
              "</style>\n",
              "<table border=\"1\" class=\"dataframe\">\n",
              "  <thead>\n",
              "    <tr style=\"text-align: right;\">\n",
              "      <th></th>\n",
              "      <th>total_cases</th>\n",
              "      <th>new_cases</th>\n",
              "      <th>new_cases_smoothed</th>\n",
              "      <th>total_deaths</th>\n",
              "      <th>new_deaths</th>\n",
              "      <th>new_deaths_smoothed</th>\n",
              "      <th>reproduction_rate</th>\n",
              "      <th>total_vaccinations</th>\n",
              "      <th>people_vaccinated</th>\n",
              "      <th>people_fully_vaccinated</th>\n",
              "      <th>total_boosters</th>\n",
              "      <th>new_vaccinations</th>\n",
              "      <th>new_vaccinations_smoothed</th>\n",
              "      <th>new_people_vaccinated_smoothed</th>\n",
              "      <th>stringency_index</th>\n",
              "      <th>population</th>\n",
              "      <th>population_density</th>\n",
              "      <th>median_age</th>\n",
              "      <th>female_smokers</th>\n",
              "      <th>male_smokers</th>\n",
              "    </tr>\n",
              "    <tr>\n",
              "      <th>date</th>\n",
              "      <th></th>\n",
              "      <th></th>\n",
              "      <th></th>\n",
              "      <th></th>\n",
              "      <th></th>\n",
              "      <th></th>\n",
              "      <th></th>\n",
              "      <th></th>\n",
              "      <th></th>\n",
              "      <th></th>\n",
              "      <th></th>\n",
              "      <th></th>\n",
              "      <th></th>\n",
              "      <th></th>\n",
              "      <th></th>\n",
              "      <th></th>\n",
              "      <th></th>\n",
              "      <th></th>\n",
              "      <th></th>\n",
              "      <th></th>\n",
              "    </tr>\n",
              "  </thead>\n",
              "  <tbody>\n",
              "    <tr>\n",
              "      <th>2020-02-26</th>\n",
              "      <td>1.0</td>\n",
              "      <td>1.0</td>\n",
              "      <td>NaN</td>\n",
              "      <td>NaN</td>\n",
              "      <td>NaN</td>\n",
              "      <td>NaN</td>\n",
              "      <td>NaN</td>\n",
              "      <td>NaN</td>\n",
              "      <td>NaN</td>\n",
              "      <td>NaN</td>\n",
              "      <td>NaN</td>\n",
              "      <td>NaN</td>\n",
              "      <td>NaN</td>\n",
              "      <td>NaN</td>\n",
              "      <td>5.56</td>\n",
              "      <td>213993441.0</td>\n",
              "      <td>25.04</td>\n",
              "      <td>33.5</td>\n",
              "      <td>10.1</td>\n",
              "      <td>17.9</td>\n",
              "    </tr>\n",
              "    <tr>\n",
              "      <th>2020-02-27</th>\n",
              "      <td>1.0</td>\n",
              "      <td>0.0</td>\n",
              "      <td>NaN</td>\n",
              "      <td>NaN</td>\n",
              "      <td>NaN</td>\n",
              "      <td>NaN</td>\n",
              "      <td>NaN</td>\n",
              "      <td>NaN</td>\n",
              "      <td>NaN</td>\n",
              "      <td>NaN</td>\n",
              "      <td>NaN</td>\n",
              "      <td>NaN</td>\n",
              "      <td>NaN</td>\n",
              "      <td>NaN</td>\n",
              "      <td>5.56</td>\n",
              "      <td>213993441.0</td>\n",
              "      <td>25.04</td>\n",
              "      <td>33.5</td>\n",
              "      <td>10.1</td>\n",
              "      <td>17.9</td>\n",
              "    </tr>\n",
              "    <tr>\n",
              "      <th>2020-02-28</th>\n",
              "      <td>1.0</td>\n",
              "      <td>0.0</td>\n",
              "      <td>NaN</td>\n",
              "      <td>NaN</td>\n",
              "      <td>NaN</td>\n",
              "      <td>NaN</td>\n",
              "      <td>NaN</td>\n",
              "      <td>NaN</td>\n",
              "      <td>NaN</td>\n",
              "      <td>NaN</td>\n",
              "      <td>NaN</td>\n",
              "      <td>NaN</td>\n",
              "      <td>NaN</td>\n",
              "      <td>NaN</td>\n",
              "      <td>5.56</td>\n",
              "      <td>213993441.0</td>\n",
              "      <td>25.04</td>\n",
              "      <td>33.5</td>\n",
              "      <td>10.1</td>\n",
              "      <td>17.9</td>\n",
              "    </tr>\n",
              "    <tr>\n",
              "      <th>2020-02-29</th>\n",
              "      <td>2.0</td>\n",
              "      <td>1.0</td>\n",
              "      <td>NaN</td>\n",
              "      <td>NaN</td>\n",
              "      <td>NaN</td>\n",
              "      <td>NaN</td>\n",
              "      <td>NaN</td>\n",
              "      <td>NaN</td>\n",
              "      <td>NaN</td>\n",
              "      <td>NaN</td>\n",
              "      <td>NaN</td>\n",
              "      <td>NaN</td>\n",
              "      <td>NaN</td>\n",
              "      <td>NaN</td>\n",
              "      <td>5.56</td>\n",
              "      <td>213993441.0</td>\n",
              "      <td>25.04</td>\n",
              "      <td>33.5</td>\n",
              "      <td>10.1</td>\n",
              "      <td>17.9</td>\n",
              "    </tr>\n",
              "    <tr>\n",
              "      <th>2020-03-01</th>\n",
              "      <td>2.0</td>\n",
              "      <td>0.0</td>\n",
              "      <td>NaN</td>\n",
              "      <td>NaN</td>\n",
              "      <td>NaN</td>\n",
              "      <td>NaN</td>\n",
              "      <td>NaN</td>\n",
              "      <td>NaN</td>\n",
              "      <td>NaN</td>\n",
              "      <td>NaN</td>\n",
              "      <td>NaN</td>\n",
              "      <td>NaN</td>\n",
              "      <td>NaN</td>\n",
              "      <td>NaN</td>\n",
              "      <td>5.56</td>\n",
              "      <td>213993441.0</td>\n",
              "      <td>25.04</td>\n",
              "      <td>33.5</td>\n",
              "      <td>10.1</td>\n",
              "      <td>17.9</td>\n",
              "    </tr>\n",
              "  </tbody>\n",
              "</table>\n",
              "</div>"
            ],
            "text/plain": [
              "            total_cases  new_cases  ...  female_smokers  male_smokers\n",
              "date                                ...                              \n",
              "2020-02-26          1.0        1.0  ...            10.1          17.9\n",
              "2020-02-27          1.0        0.0  ...            10.1          17.9\n",
              "2020-02-28          1.0        0.0  ...            10.1          17.9\n",
              "2020-02-29          2.0        1.0  ...            10.1          17.9\n",
              "2020-03-01          2.0        0.0  ...            10.1          17.9\n",
              "\n",
              "[5 rows x 20 columns]"
            ]
          },
          "metadata": {},
          "execution_count": 13
        }
      ]
    },
    {
      "cell_type": "markdown",
      "source": [
        "### **Dicionário de Variáveis**"
      ],
      "metadata": {
        "id": "N15rcfzTv2xH"
      }
    },
    {
      "cell_type": "markdown",
      "source": [
        "Agora que isolamos as colunas que iremos utilizar, esses são os seus significados: \n",
        "* `total_cases`: total de casos confirmados\n",
        "* `new_cases`: novos casos confirmados no respectivo dia\n",
        "* `total_deaths`: total de mortes\n",
        "* `new_deaths`: novas mortes no respectivo dia\n",
        "* `reproduction_rate`: um valor calculado da taxa de reprodução da doença pelo mundo\n",
        "* `total_vaccinations`: total de doses administradas\n",
        "* `people_vaccinated`: total de pessoas que já tomaram pelo menos uma dose da vacina\n",
        "* `people_fully_vaccinated`: total de pessoas com o esquema vacinal completo\n",
        "* `total_boosters`: total de pessoas que tomaram doses extras (além da quantidade recomendada de cada fabricante)\n",
        "* `new_vaccinations`: quantidade de doses administradas no respectivo dia\n",
        "* `stringency_index`: um valor calculado a partir de alguns dados, como escolas fechadas, comércios fechados e restrições de viagens variando de 0 a 100 (100 é a maior restrição)\n",
        "* `population`: população do país\n",
        "* `population_density`: população dividida pela área do país, em m<sup>2</sup>\n",
        "* `median_age`: mediana da idade dos habitantes do país\n",
        "* `female_smokers`: porcentagem de mulheres fumantes no país\n",
        "* `male_smokers`: porcentagem de homens fumantes no país\n",
        "---\n",
        " *OBS:*  `new_cases_smoothed`, `new_deaths_smoothed`, `new_vaccinations_smoothed` e `new_people_vaccinated_smoothed` (todas as colunas com `_smoothed`) tratam dos mesmos dados que as originais, mas com os valores amortecidos (médias móveis) de 7 dias."
      ],
      "metadata": {
        "id": "lOlqU1MEwODd"
      }
    },
    {
      "cell_type": "markdown",
      "source": [
        "### **Lidando com valores ausentes**"
      ],
      "metadata": {
        "id": "2Z6vwM2r3c49"
      }
    },
    {
      "cell_type": "markdown",
      "source": [
        "#### Porcentagem de valores ausentes por coluna:"
      ],
      "metadata": {
        "id": "IDbU3A-K4xfO"
      }
    },
    {
      "cell_type": "code",
      "source": [
        "na_percentage = 1 - (df_bra.count() / df_bra.shape[0])\n",
        "for key,value in na_percentage.iteritems():\n",
        "  print(f\"{key}: {value*100:.2f}%\")"
      ],
      "metadata": {
        "colab": {
          "base_uri": "https://localhost:8080/"
        },
        "id": "QqC2uo503kg3",
        "outputId": "e010baf6-d3a6-4d83-fe11-6b9c5aeff689"
      },
      "execution_count": 14,
      "outputs": [
        {
          "output_type": "stream",
          "name": "stdout",
          "text": [
            "total_cases: 0.00%\n",
            "new_cases: 0.15%\n",
            "new_cases_smoothed: 0.76%\n",
            "total_deaths: 3.05%\n",
            "new_deaths: 3.05%\n",
            "new_deaths_smoothed: 0.76%\n",
            "reproduction_rate: 3.05%\n",
            "total_vaccinations: 49.77%\n",
            "people_vaccinated: 49.77%\n",
            "people_fully_vaccinated: 52.67%\n",
            "total_boosters: 84.58%\n",
            "new_vaccinations: 49.92%\n",
            "new_vaccinations_smoothed: 49.92%\n",
            "new_people_vaccinated_smoothed: 49.92%\n",
            "stringency_index: 0.15%\n",
            "population: 0.00%\n",
            "population_density: 0.00%\n",
            "median_age: 0.00%\n",
            "female_smokers: 0.00%\n",
            "male_smokers: 0.00%\n"
          ]
        }
      ]
    },
    {
      "cell_type": "markdown",
      "source": [
        "Valores ausentes podem existir em um banco de dados por uma série de motivos. No nosso caso, como se trata de uma nova doença, muitos dados como quantidade de mortes e de vacinados provavelmente não estão completos pois tais fatos só passaram a ocorrer a partir de um certo momento, e desse momento pra frente foram contabilizados."
      ],
      "metadata": {
        "id": "bM_EA23j47ZJ"
      }
    },
    {
      "cell_type": "markdown",
      "source": [
        "Por isso, estaremos tratando todos os valores ausentes como 0 (zero), mas ainda mantendo os dados como vieram."
      ],
      "metadata": {
        "id": "cdkHd6Im5j14"
      }
    },
    {
      "cell_type": "markdown",
      "source": [
        "### **O começo da pandemia no Brasil**"
      ],
      "metadata": {
        "id": "zIrj75xH6S-w"
      }
    },
    {
      "cell_type": "code",
      "source": [
        "def find_first(column,df=df_bra):\n",
        "  return df[column].first_valid_index()\n",
        "\n",
        "cols = [\"new_cases\",\"new_deaths\",\"people_vaccinated\",\"people_fully_vaccinated\",\"total_boosters\"]\n",
        "cols_dates = {i: find_first(i).date() for i in cols}\n",
        "for key,value in cols_dates.items():\n",
        "  print(f\"{key}: {value}\")\n",
        "days_between = (cols_dates[\"new_deaths\"] - cols_dates[\"new_cases\"]).days\n",
        "print(f\"\\nA primeira morte ocorreu {days_between} dias depois de ser registrado o 1º caso.\")"
      ],
      "metadata": {
        "colab": {
          "base_uri": "https://localhost:8080/"
        },
        "id": "71xtCF4X6XWp",
        "outputId": "d0421c6f-32cb-4c06-f859-b745473e9981"
      },
      "execution_count": 15,
      "outputs": [
        {
          "output_type": "stream",
          "name": "stdout",
          "text": [
            "new_cases: 2020-02-26\n",
            "new_deaths: 2020-03-17\n",
            "people_vaccinated: 2021-01-17\n",
            "people_fully_vaccinated: 2021-02-05\n",
            "total_boosters: 2021-09-02\n",
            "\n",
            "A primeira morte ocorreu 20 dias depois de ser registrado o 1º caso.\n"
          ]
        }
      ]
    },
    {
      "cell_type": "markdown",
      "source": [
        "Como podemos ver, o primeiro caso registrado ocorreu em **26 de fevereiro de 2020**. Já a primeira morte ocorreu no dia **17 de março**, **20 dias depois** da confirmação do primeiro caso. [Estudos](https://theconversation.com/coronavirus-how-long-does-it-take-to-get-sick-how-infectious-is-it-will-you-always-have-a-fever-covid-19-basics-explained-132963) indicam que o tempo médio entre a infecção e a fatalidade gira em torno de **13 dias** (5-6 dias de incubação e 1 semana de desenvolvimento da doença), o que corrobora com os dados do Brasil. \n",
        "\n",
        "As vacinas só chegaram mais tarde ao Brasil, e o primeiro registro data de **17 de janeiro de 2021**. As primeiras pessoas completaram o seu cartão de vacina no dia **05 de fevereiro**, e as primeiras doses de reforço começaram a ser administradas no dia **02 de setembro**."
      ],
      "metadata": {
        "id": "cJpnJNq_807R"
      }
    },
    {
      "cell_type": "markdown",
      "source": [
        "### **A evolução da COVID-19**"
      ],
      "metadata": {
        "id": "O2FOHaiMIs2q"
      }
    },
    {
      "cell_type": "code",
      "source": [
        "fig,(ax1,ax2) = plt.subplots(ncols=1,nrows=2,figsize=(5,2.5),dpi=200)\n",
        "plt.xlabel(\"Mês\",fontsize=6)\n",
        "ax1.tick_params(length=0.5,labelsize=4)\n",
        "ax2.tick_params(length=0.5,labelsize=4)\n",
        "ax1.set_ylabel(\"Casos diários\",fontsize=6)\n",
        "ax2.set_ylabel(\"Mortes diárias\",fontsize=6)\n",
        "plt.suptitle(\"Evolução da COVID-19 no Brasil\", fontsize=9,y=1.05)\n",
        "ax1.plot(df_bra.index,df_bra.new_cases_smoothed,color=\"#FFC30B\")\n",
        "ax2.plot(df_bra.index,df_bra.new_deaths_smoothed,color=\"#211d0c\")\n",
        "plt.tight_layout()"
      ],
      "metadata": {
        "colab": {
          "base_uri": "https://localhost:8080/",
          "height": 552
        },
        "id": "7Ga6MRTyNJ2K",
        "outputId": "90dd2c17-35d2-4510-de74-f607e3da3abf"
      },
      "execution_count": 16,
      "outputs": [
        {
          "output_type": "display_data",
          "data": {
            "image/png": "[encoded data removed]",
            "text/plain": [
              "<Figure size 1000x500 with 2 Axes>"
            ]
          },
          "metadata": {
            "needs_background": "dark"
          }
        }
      ]
    },
    {
      "cell_type": "code",
      "source": [
        "def find_index_max(column,df=df_bra):\n",
        "  date = df[column].idxmax().date()\n",
        "  maximum = df[column].max()\n",
        "  return (date,maximum)\n",
        "\n",
        "cols = [\"new_cases\",\"new_deaths\"]\n",
        "cols_dates = {i: find_index_max(i) for i in cols}\n",
        "\n",
        "print(f\"A média de casos diários foi {int(df_bra.new_cases.mean())}. O valor máximo foi {int(cols_dates['new_cases'][1])}, registrado em {cols_dates['new_cases'][0]}.\")\n",
        "print(f\"\\nA média de mortes diárias foi {int(df_bra.new_deaths.mean())}. O valor máximo foi {int(cols_dates['new_deaths'][1])}, registrado em {cols_dates['new_deaths'][0]}.\")"
      ],
      "metadata": {
        "colab": {
          "base_uri": "https://localhost:8080/"
        },
        "id": "hxi578s-QX_4",
        "outputId": "debf8d32-3ae5-4aad-b41d-259953fcb55c"
      },
      "execution_count": 17,
      "outputs": [
        {
          "output_type": "stream",
          "name": "stdout",
          "text": [
            "A média de casos diários foi 33680. O valor máximo foi 115228, registrado em 2021-06-23.\n",
            "\n",
            "A média de mortes diárias foi 970. O valor máximo foi 4249, registrado em 2021-04-08.\n"
          ]
        }
      ]
    },
    {
      "cell_type": "markdown",
      "source": [
        "No Brasil, houve uma média de **33680** casos por dia da doença, com **970** mortes. No dia *23 de junho de 2021* foi registrado o maior número de casos confirmados em um dia, **115228**. O maior número de mortes, por sua vez, foi de **4249**, em *08 de abril de 2021*."
      ],
      "metadata": {
        "id": "WQy3znGpSeq-"
      }
    },
    {
      "cell_type": "markdown",
      "source": [
        "Da relação entre a quantidade de mortes e de casos confirmados por dia, podemos calcular a taxa de mortalidade, conforme o gráfico abaixo."
      ],
      "metadata": {
        "id": "yYubkhSGVwX1"
      }
    },
    {
      "cell_type": "code",
      "source": [
        "df_bra[\"case_death_ratio\"] = (df_bra.new_deaths_smoothed / df_bra.new_cases_smoothed) * 100"
      ],
      "metadata": {
        "id": "l9Q6PB5rKwHH"
      },
      "execution_count": 18,
      "outputs": []
    },
    {
      "cell_type": "code",
      "source": [
        "fig,ax = plt.subplots(figsize=(5,2.5),dpi=200)\n",
        "plt.ylabel(\"%\",fontsize=6)\n",
        "plt.xlabel(\"Mês\",fontsize=6)\n",
        "plt.xticks(fontsize=5)\n",
        "plt.yticks(fontsize=5)\n",
        "plt.title(\"Taxa de Mortalidade\", fontsize=9)\n",
        "plt.yscale(\"linear\")\n",
        "plt.plot(df_bra.case_death_ratio,color=\"#FFC30B\")\n",
        "plt.tight_layout()"
      ],
      "metadata": {
        "colab": {
          "base_uri": "https://localhost:8080/",
          "height": 497
        },
        "id": "jXtfuz2dIyib",
        "outputId": "57bacf70-f4c7-463e-93ee-10914f1d4dd1"
      },
      "execution_count": 19,
      "outputs": [
        {
          "output_type": "display_data",
          "data": {
            "image/png": "[encoded data removed]",
            "text/plain": [
              "<Figure size 1000x500 with 1 Axes>"
            ]
          },
          "metadata": {
            "needs_background": "dark"
          }
        }
      ]
    },
    {
      "cell_type": "code",
      "source": [
        "dia, maximo = find_index_max(\"case_death_ratio\")\n",
        "print(f\"A média da taxa de mortalidade foi de {df_bra.case_death_ratio.mean():.2f}%. Já o valor máximo foi de {maximo:.2f}%, registrado no dia {dia}.\")\n",
        "global_mean = (df_raw.loc[df_raw.location == \"World\"].new_deaths_smoothed.mean() / df_raw.loc[df_raw.location == \"World\"].new_cases_smoothed.mean()) * 100\n",
        "print(f\"\\nMédia Global: {global_mean:.2f}%\")"
      ],
      "metadata": {
        "colab": {
          "base_uri": "https://localhost:8080/"
        },
        "id": "yAJGLM0DWBqT",
        "outputId": "5e02cfa7-2dbe-4518-c518-086161a2d119"
      },
      "execution_count": 20,
      "outputs": [
        {
          "output_type": "stream",
          "name": "stdout",
          "text": [
            "A média da taxa de mortalidade foi de 2.96%. Já o valor máximo foi de 7.90%, registrado no dia 2020-04-16.\n",
            "\n",
            "Média Global: 1.97%\n"
          ]
        }
      ]
    },
    {
      "cell_type": "markdown",
      "source": [
        "Como podemos ver, a COVID-19 apresentou maiores taxas de mortalidade nos primeiros meses, com o valor máximo de **7,90%**, no dia *16 de abril de 2020*. Já a média da taxa de mortalidade brasileira foi de **2,96%**, cerca de 1% mais alta que a média global de **1,97%**."
      ],
      "metadata": {
        "id": "8STmQYaLW3r3"
      }
    },
    {
      "cell_type": "markdown",
      "source": [
        "### **Mapa de Calor**"
      ],
      "metadata": {
        "id": "kohCdMgIhexX"
      }
    },
    {
      "cell_type": "markdown",
      "source": [
        "Podemos desenhar um mapa de calor com as variáveis, isto é, um gráfico que representa a correlação (não necessariamente causa e efeito) entre as variáveis do nosso banco de dados.\n",
        "No gráfico, os valores mais próximos de 1.0 (forte correlação positiva), estão pintados na cor dourada. Aqueles com uma forte correlação negativa (próximos de -1.0), estão pintados na cor marrom escuro."
      ],
      "metadata": {
        "id": "TBO87DS5hjn1"
      }
    },
    {
      "cell_type": "markdown",
      "source": [
        "##### *Apagando as colunas* `_smoothed`"
      ],
      "metadata": {
        "id": "0DoRJLSzhv90"
      }
    },
    {
      "cell_type": "code",
      "source": [
        "heat_df = df_bra.iloc[:,0:15]\n",
        "heat_df.drop(columns=['new_cases_smoothed','new_deaths_smoothed','new_vaccinations_smoothed','new_people_vaccinated_smoothed'],inplace=True)\n",
        "heat_df=heat_df.corr()\n",
        "colors = cycler('color',['#ffffff'])\n",
        "plt.rc('axes', facecolor='#ffffff', edgecolor='none',\n",
        "       axisbelow=True, grid=True, prop_cycle=colors)"
      ],
      "metadata": {
        "id": "B1iUses2d-wR"
      },
      "execution_count": 21,
      "outputs": []
    },
    {
      "cell_type": "code",
      "source": [
        "fig,ax = plt.subplots(figsize=(4,3),dpi=200)\n",
        "plt.xticks(fontsize=5)\n",
        "plt.yticks(fontsize=5)\n",
        "plt.title(\"Correlação entre as variáveis brasileiras\", fontsize=8,y=1.02)\n",
        "cmap = sns.dark_palette(\"gold\",as_cmap=True)\n",
        "mask = np.triu(np.ones_like(heat_df, dtype=bool))\n",
        "sns.heatmap(data=heat_df,annot=True,mask=mask,center=0,linewidths=0.3,annot_kws={\"fontsize\":3},cmap=cmap,cbar_kws={\"shrink\": .7});\n",
        "cbar = ax.collections[0].colorbar\n",
        "cbar.ax.tick_params(labelsize=3)"
      ],
      "metadata": {
        "colab": {
          "base_uri": "https://localhost:8080/",
          "height": 739
        },
        "id": "WWEQhsdzbzKg",
        "outputId": "c528f647-8cd0-4286-911c-e4d158a82d62"
      },
      "execution_count": 22,
      "outputs": [
        {
          "output_type": "display_data",
          "data": {
            "image/png": "[encoded data removed]",
            "text/plain": [
              "<Figure size 800x600 with 2 Axes>"
            ]
          },
          "metadata": {
            "needs_background": "dark"
          }
        }
      ]
    },
    {
      "cell_type": "markdown",
      "source": [
        "Nem todas as comparações entre as variáveis são adequadas. Por exemplo, comparar o total de casos com o número de vacinados não irá nos dizer que os dois valores possuem uma relação de causa e efeito, apesar da alta correlação. \n",
        "\n",
        "Uma interpretação mais adequada pode ser comparar o total de vacinados (`people_fully_vaccinated`), com o número de mortes diárias (`new_deaths`). Nesse caso, observamos uma correlação de **-0,7**, isto é, quanto maior o número de pessoas vacinadas, a tendência é que a quantidade diária de mortes diminua, como se espera que seja o efeito da vacinação em massa."
      ],
      "metadata": {
        "id": "aixHvVB7Yp39"
      }
    },
    {
      "cell_type": "markdown",
      "source": [
        "## **Conclusão**"
      ],
      "metadata": {
        "id": "Ei5j-jTmabZU"
      }
    },
    {
      "cell_type": "markdown",
      "source": [
        "Apesar de não termos nos aprofundado extremamente nos maiores detalhes da pandemia da COVID-19, foi possível determinar o seu grande impacto no mundo como um todo, e especialmente no Brasil, como o país com o 2º maior número de mortes até hoje.\n",
        "\n",
        "Foi possível, também, observar uma série de tendências e correlações, que muitas vezes não conseguimos considerar sem uma certa análise.\n",
        "\n",
        "Por fim, acredito e espero que tenha conseguido conscientizar você, leitor, da necessidade de tomar os cuidados necessários com relação a essa doença, para que possamos voltar ao normal o quanto antes.\n",
        "\n",
        "Desde já agradeço a atenção e o tempo dedicado à leitura.\n",
        "\n",
        "*Thales M. Meier*"
      ],
      "metadata": {
        "id": "oN1mEhXcad8Z"
      }
    }
  ]
}